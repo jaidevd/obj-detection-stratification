{
 "cells": [
  {
   "cell_type": "code",
   "execution_count": 1,
   "id": "70723113-cbb2-4b9d-bc25-bd02ff89ee5b",
   "metadata": {},
   "outputs": [],
   "source": [
    "from main import ChessDataset\n",
    "import pandas as pd\n",
    "import matplotlib.pyplot as plt\n",
    "from sklearn.model_selection import train_test_split"
   ]
  },
  {
   "cell_type": "code",
   "execution_count": 4,
   "id": "16cf69e7-91f2-41af-9ef2-2acf9c24adcd",
   "metadata": {},
   "outputs": [],
   "source": [
    "ds = ChessDataset(root='./data/train')\n",
    "df = [(ann[\"id\"].item(), ann[\"boxes\"].shape[0]) for _, ann in ds]\n",
    "df = pd.DataFrame(df, columns=[\"id\", \"n_obj\"])"
   ]
  },
  {
   "cell_type": "code",
   "execution_count": 5,
   "id": "55adcfa2-85d7-43ad-8652-b54155b53f73",
   "metadata": {},
   "outputs": [],
   "source": [
    "df[\"label\"] = pd.cut(\n",
    "    df[\"n_obj\"], bins=[0, 1, 7, 12, 20, 25, 31, 32], labels=list(\"ABCDEFG\")\n",
    ")\n",
    "train_ix, test_ix = train_test_split(df[\"id\"], stratify=df[\"label\"], train_size=120)"
   ]
  },
  {
   "cell_type": "code",
   "execution_count": 10,
   "id": "b1b18347-fa9e-4629-a95e-28c963bd22c5",
   "metadata": {},
   "outputs": [],
   "source": [
    "X = df.loc[train_ix.index]\n",
    "Y = df.loc[test_ix.index]"
   ]
  },
  {
   "cell_type": "code",
   "execution_count": 12,
   "id": "f63e5547-2902-41ee-97fb-a1d1239513e0",
   "metadata": {},
   "outputs": [
    {
     "data": {
      "text/plain": [
       "<AxesSubplot:>"
      ]
     },
     "execution_count": 12,
     "metadata": {},
     "output_type": "execute_result"
    },
    {
     "data": {
      "image/png": "[encoded data removed]",
      "text/plain": [
       "<Figure size 640x480 with 1 Axes>"
      ]
     },
     "metadata": {},
     "output_type": "display_data"
    }
   ],
   "source": [
    "ax = X['n_obj'].value_counts(normalize=True).sort_index().plot(marker='o', c='g', label='train')\n",
    "Y['n_obj'].value_counts(normalize=True).sort_index().plot(marker='o', c='r', label='test', ax=ax)"
   ]
  },
  {
   "cell_type": "code",
   "execution_count": 33,
   "id": "bff9e6af-142e-49b1-aafe-eb3685f10156",
   "metadata": {},
   "outputs": [
    {
     "data": {
      "text/html": [
       "<div>\n",
       "<style scoped>\n",
       "    .dataframe tbody tr th:only-of-type {\n",
       "        vertical-align: middle;\n",
       "    }\n",
       "\n",
       "    .dataframe tbody tr th {\n",
       "        vertical-align: top;\n",
       "    }\n",
       "\n",
       "    .dataframe thead th {\n",
       "        text-align: right;\n",
       "    }\n",
       "</style>\n",
       "<table border=\"1\" class=\"dataframe\">\n",
       "  <thead>\n",
       "    <tr style=\"text-align: right;\">\n",
       "      <th></th>\n",
       "      <th>id</th>\n",
       "      <th>iou</th>\n",
       "    </tr>\n",
       "  </thead>\n",
       "  <tbody>\n",
       "    <tr>\n",
       "      <th>33</th>\n",
       "      <td>74</td>\n",
       "      <td>0.0</td>\n",
       "    </tr>\n",
       "    <tr>\n",
       "      <th>77</th>\n",
       "      <td>39</td>\n",
       "      <td>0.0</td>\n",
       "    </tr>\n",
       "    <tr>\n",
       "      <th>24</th>\n",
       "      <td>187</td>\n",
       "      <td>0.0</td>\n",
       "    </tr>\n",
       "    <tr>\n",
       "      <th>14</th>\n",
       "      <td>82</td>\n",
       "      <td>0.0</td>\n",
       "    </tr>\n",
       "    <tr>\n",
       "      <th>12</th>\n",
       "      <td>78</td>\n",
       "      <td>0.0</td>\n",
       "    </tr>\n",
       "    <tr>\n",
       "      <th>44</th>\n",
       "      <td>113</td>\n",
       "      <td>0.0</td>\n",
       "    </tr>\n",
       "    <tr>\n",
       "      <th>48</th>\n",
       "      <td>12</td>\n",
       "      <td>0.0</td>\n",
       "    </tr>\n",
       "    <tr>\n",
       "      <th>47</th>\n",
       "      <td>93</td>\n",
       "      <td>0.0</td>\n",
       "    </tr>\n",
       "    <tr>\n",
       "      <th>6</th>\n",
       "      <td>180</td>\n",
       "      <td>0.0</td>\n",
       "    </tr>\n",
       "    <tr>\n",
       "      <th>69</th>\n",
       "      <td>97</td>\n",
       "      <td>0.0</td>\n",
       "    </tr>\n",
       "    <tr>\n",
       "      <th>54</th>\n",
       "      <td>189</td>\n",
       "      <td>0.0</td>\n",
       "    </tr>\n",
       "    <tr>\n",
       "      <th>3</th>\n",
       "      <td>41</td>\n",
       "      <td>0.0</td>\n",
       "    </tr>\n",
       "    <tr>\n",
       "      <th>57</th>\n",
       "      <td>160</td>\n",
       "      <td>0.0</td>\n",
       "    </tr>\n",
       "    <tr>\n",
       "      <th>61</th>\n",
       "      <td>138</td>\n",
       "      <td>0.0</td>\n",
       "    </tr>\n",
       "    <tr>\n",
       "      <th>50</th>\n",
       "      <td>144</td>\n",
       "      <td>0.0</td>\n",
       "    </tr>\n",
       "    <tr>\n",
       "      <th>21</th>\n",
       "      <td>75</td>\n",
       "      <td>0.0</td>\n",
       "    </tr>\n",
       "  </tbody>\n",
       "</table>\n",
       "</div>"
      ],
      "text/plain": [
       "     id  iou\n",
       "33   74  0.0\n",
       "77   39  0.0\n",
       "24  187  0.0\n",
       "14   82  0.0\n",
       "12   78  0.0\n",
       "44  113  0.0\n",
       "48   12  0.0\n",
       "47   93  0.0\n",
       "6   180  0.0\n",
       "69   97  0.0\n",
       "54  189  0.0\n",
       "3    41  0.0\n",
       "57  160  0.0\n",
       "61  138  0.0\n",
       "50  144  0.0\n",
       "21   75  0.0"
      ]
     },
     "execution_count": 33,
     "metadata": {},
     "output_type": "execute_result"
    }
   ],
   "source": [
    "scores = pd.read_csv('chess_iou_debug_2022-09-22T09:58:22.497664.csv', skiprows=1, names=['id', 'iou'])\n",
    "scores.sort_values('iou', inplace=True)\n",
    "bad = scores[scores['iou'] == 0]\n",
    "bad"
   ]
  },
  {
   "cell_type": "code",
   "execution_count": 34,
   "id": "56a08456-8a09-42c5-b976-7ec0806d0e9e",
   "metadata": {},
   "outputs": [],
   "source": [
    "import torch"
   ]
  },
  {
   "cell_type": "code",
   "execution_count": 35,
   "id": "0ac5e8d7-8511-47ae-a782-a23736fe68ac",
   "metadata": {},
   "outputs": [],
   "source": [
    "model = torch.load('data/models/random.pt')"
   ]
  },
  {
   "cell_type": "code",
   "execution_count": null,
   "id": "e41b0e25-e3ef-4cbd-a2b9-492e6d2df606",
   "metadata": {},
   "outputs": [],
   "source": []
  }
 ],
 "metadata": {
  "kernelspec": {
   "display_name": "Python 3 (ipykernel)",
   "language": "python",
   "name": "python3"
  },
  "language_info": {
   "codemirror_mode": {
    "name": "ipython",
    "version": 3
   },
   "file_extension": ".py",
   "mimetype": "text/x-python",
   "name": "python",
   "nbconvert_exporter": "python",
   "pygments_lexer": "ipython3",
   "version": "3.9.12"
  }
 },
 "nbformat": 4,
 "nbformat_minor": 5
}
