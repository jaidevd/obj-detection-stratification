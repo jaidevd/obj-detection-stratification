{
 "cells": [
  {
   "cell_type": "code",
   "execution_count": 1,
   "id": "78bb403a-8ec8-4e6d-9ae4-718c4c89dfd3",
   "metadata": {},
   "outputs": [],
   "source": [
    "from main import PennFudanDataset, get_instance_segmentation_model, get_transform, map_iou\n",
    "import pandas as pd\n",
    "import torch\n",
    "import utils\n",
    "from itertools import chain\n",
    "from engine import train_one_epoch\n",
    "import numpy as np\n",
    "import seaborn as sns\n",
    "import matplotlib.pyplot as plt"
   ]
  },
  {
   "cell_type": "code",
   "execution_count": 2,
   "id": "cdc72e8e-75a9-48fd-b0af-09401c183b6a",
   "metadata": {},
   "outputs": [],
   "source": [
    "# use our dataset and defined transformations\n",
    "dataset = PennFudanDataset('/media/jaidevd/motherbox/archive/pennfudan/PennFudanPed', None, get_transform(train=True))\n",
    "dataset_test = PennFudanDataset('/media/jaidevd/motherbox/archive/pennfudan/PennFudanPed', None, get_transform(train=False))\n",
    "\n",
    "# split the dataset in train and test set\n",
    "# torch.manual_seed(1)\n",
    "indices = torch.randperm(len(dataset)).tolist()\n",
    "dataset = torch.utils.data.Subset(dataset, indices[:85])\n",
    "dataset_test = torch.utils.data.Subset(dataset_test, indices[85:])\n",
    "\n",
    "# define training and validation data loaders\n",
    "data_loader = torch.utils.data.DataLoader(\n",
    "    dataset, batch_size=5, shuffle=True, num_workers=4,\n",
    "    collate_fn=utils.collate_fn)\n",
    "\n",
    "data_loader_test = torch.utils.data.DataLoader(\n",
    "    dataset_test, batch_size=1, shuffle=False, num_workers=4,\n",
    "    collate_fn=utils.collate_fn)"
   ]
  },
  {
   "cell_type": "code",
   "execution_count": 3,
   "id": "2b4412aa-df33-45bb-ae75-1607cc3ee09a",
   "metadata": {},
   "outputs": [
    {
     "name": "stderr",
     "output_type": "stream",
     "text": [
      "/home/jaidevd/conda/lib/python3.7/site-packages/torchvision/models/_utils.py:209: UserWarning: The parameter 'pretrained' is deprecated since 0.13 and will be removed in 0.15, please use 'weights' instead.\n",
      "  f\"The parameter '{pretrained_param}' is deprecated since 0.13 and will be removed in 0.15, \"\n",
      "/home/jaidevd/conda/lib/python3.7/site-packages/torchvision/models/_utils.py:223: UserWarning: Arguments other than a weight enum or `None` for 'weights' are deprecated since 0.13 and will be removed in 0.15. The current behavior is equivalent to passing `weights=MaskRCNN_ResNet50_FPN_Weights.COCO_V1`. You can also use `weights=MaskRCNN_ResNet50_FPN_Weights.DEFAULT` to get the most up-to-date weights.\n",
      "  warnings.warn(msg)\n"
     ]
    }
   ],
   "source": [
    "device = torch.device('cuda') if torch.cuda.is_available() else torch.device('cpu')\n",
    "\n",
    "# our dataset has two classes only - background and person\n",
    "num_classes = 2\n",
    "\n",
    "# get the model using our helper function\n",
    "model = get_instance_segmentation_model(num_classes)\n",
    "# move model to the right device\n",
    "model.to(device)\n",
    "\n",
    "# construct an optimizer\n",
    "params = [p for p in model.parameters() if p.requires_grad]\n",
    "optimizer = torch.optim.SGD(params, lr=0.01,\n",
    "                            momentum=0.9, weight_decay=0.005)\n",
    "\n",
    "# and a learning rate scheduler which decreases the learning rate by\n",
    "# 10x every 3 epochs\n",
    "lr_scheduler = torch.optim.lr_scheduler.StepLR(optimizer,\n",
    "                                               step_size=3,\n",
    "                                               gamma=0.1)"
   ]
  },
  {
   "cell_type": "code",
   "execution_count": 4,
   "id": "ea085347-e4f8-479b-af34-fea72b756563",
   "metadata": {
    "scrolled": true,
    "tags": []
   },
   "outputs": [
    {
     "name": "stdout",
     "output_type": "stream",
     "text": [
      "Epoch: [0]  [ 0/17]  eta: 0:00:28  lr: 0.000634  loss: 4.6207 (4.6207)  loss_classifier: 0.8299 (0.8299)  loss_box_reg: 0.3087 (0.3087)  loss_mask: 3.4603 (3.4603)  loss_objectness: 0.0174 (0.0174)  loss_rpn_box_reg: 0.0044 (0.0044)  time: 1.6895  data: 0.2248  max mem: 5981\n",
      "Epoch: [0]  [16/17]  eta: 0:00:00  lr: 0.010000  loss: 0.8289 (1.3940)  loss_classifier: 0.2120 (0.2837)  loss_box_reg: 0.2307 (0.2408)  loss_mask: 0.2985 (0.8523)  loss_objectness: 0.0071 (0.0106)  loss_rpn_box_reg: 0.0059 (0.0065)  time: 0.9665  data: 0.0206  max mem: 7713\n",
      "Epoch: [0] Total time: 0:00:16 (0.9676 s / it)\n",
      "Epoch: [1]  [ 0/17]  eta: 0:00:18  lr: 0.010000  loss: 0.5837 (0.5837)  loss_classifier: 0.0804 (0.0804)  loss_box_reg: 0.1920 (0.1920)  loss_mask: 0.2995 (0.2995)  loss_objectness: 0.0021 (0.0021)  loss_rpn_box_reg: 0.0097 (0.0097)  time: 1.1112  data: 0.2063  max mem: 7713\n",
      "Epoch: [1]  [16/17]  eta: 0:00:00  lr: 0.010000  loss: 0.4358 (0.4294)  loss_classifier: 0.0509 (0.0547)  loss_box_reg: 0.1647 (0.1564)  loss_mask: 0.1906 (0.2057)  loss_objectness: 0.0030 (0.0037)  loss_rpn_box_reg: 0.0095 (0.0090)  time: 0.9094  data: 0.0207  max mem: 7713\n",
      "Epoch: [1] Total time: 0:00:15 (0.9108 s / it)\n",
      "Epoch: [2]  [ 0/17]  eta: 0:00:17  lr: 0.010000  loss: 0.2830 (0.2830)  loss_classifier: 0.0328 (0.0328)  loss_box_reg: 0.0779 (0.0779)  loss_mask: 0.1512 (0.1512)  loss_objectness: 0.0029 (0.0029)  loss_rpn_box_reg: 0.0183 (0.0183)  time: 1.0521  data: 0.1706  max mem: 7713\n",
      "Epoch: [2]  [16/17]  eta: 0:00:00  lr: 0.010000  loss: 0.2949 (0.3034)  loss_classifier: 0.0360 (0.0374)  loss_box_reg: 0.0913 (0.1025)  loss_mask: 0.1544 (0.1548)  loss_objectness: 0.0019 (0.0024)  loss_rpn_box_reg: 0.0053 (0.0063)  time: 0.9482  data: 0.0174  max mem: 7713\n",
      "Epoch: [2] Total time: 0:00:16 (0.9503 s / it)\n",
      "Epoch: [3]  [ 0/17]  eta: 0:00:16  lr: 0.001000  loss: 0.2256 (0.2256)  loss_classifier: 0.0240 (0.0240)  loss_box_reg: 0.0652 (0.0652)  loss_mask: 0.1321 (0.1321)  loss_objectness: 0.0011 (0.0011)  loss_rpn_box_reg: 0.0031 (0.0031)  time: 0.9859  data: 0.1759  max mem: 7713\n",
      "Epoch: [3]  [16/17]  eta: 0:00:00  lr: 0.001000  loss: 0.2559 (0.2576)  loss_classifier: 0.0292 (0.0308)  loss_box_reg: 0.0752 (0.0787)  loss_mask: 0.1378 (0.1414)  loss_objectness: 0.0016 (0.0019)  loss_rpn_box_reg: 0.0046 (0.0048)  time: 0.9395  data: 0.0177  max mem: 7713\n",
      "Epoch: [3] Total time: 0:00:16 (0.9412 s / it)\n",
      "Epoch: [4]  [ 0/17]  eta: 0:00:16  lr: 0.001000  loss: 0.1806 (0.1806)  loss_classifier: 0.0176 (0.0176)  loss_box_reg: 0.0461 (0.0461)  loss_mask: 0.1137 (0.1137)  loss_objectness: 0.0009 (0.0009)  loss_rpn_box_reg: 0.0024 (0.0024)  time: 0.9864  data: 0.1830  max mem: 7713\n",
      "Epoch: [4]  [16/17]  eta: 0:00:00  lr: 0.001000  loss: 0.2400 (0.2497)  loss_classifier: 0.0313 (0.0302)  loss_box_reg: 0.0744 (0.0733)  loss_mask: 0.1311 (0.1403)  loss_objectness: 0.0012 (0.0016)  loss_rpn_box_reg: 0.0041 (0.0043)  time: 0.9428  data: 0.0182  max mem: 7713\n",
      "Epoch: [4] Total time: 0:00:16 (0.9442 s / it)\n",
      "Epoch: [5]  [ 0/17]  eta: 0:00:17  lr: 0.001000  loss: 0.1841 (0.1841)  loss_classifier: 0.0201 (0.0201)  loss_box_reg: 0.0427 (0.0427)  loss_mask: 0.1190 (0.1190)  loss_objectness: 0.0006 (0.0006)  loss_rpn_box_reg: 0.0017 (0.0017)  time: 1.0156  data: 0.1674  max mem: 7713\n",
      "Epoch: [5]  [16/17]  eta: 0:00:00  lr: 0.001000  loss: 0.2354 (0.2366)  loss_classifier: 0.0315 (0.0301)  loss_box_reg: 0.0681 (0.0669)  loss_mask: 0.1287 (0.1342)  loss_objectness: 0.0011 (0.0015)  loss_rpn_box_reg: 0.0036 (0.0040)  time: 0.9352  data: 0.0172  max mem: 7713\n",
      "Epoch: [5] Total time: 0:00:15 (0.9367 s / it)\n",
      "Epoch: [6]  [ 0/17]  eta: 0:00:15  lr: 0.000100  loss: 0.2481 (0.2481)  loss_classifier: 0.0301 (0.0301)  loss_box_reg: 0.0640 (0.0640)  loss_mask: 0.1501 (0.1501)  loss_objectness: 0.0011 (0.0011)  loss_rpn_box_reg: 0.0029 (0.0029)  time: 0.8913  data: 0.1823  max mem: 7713\n",
      "Epoch: [6]  [16/17]  eta: 0:00:00  lr: 0.000100  loss: 0.2376 (0.2336)  loss_classifier: 0.0269 (0.0295)  loss_box_reg: 0.0655 (0.0663)  loss_mask: 0.1343 (0.1330)  loss_objectness: 0.0011 (0.0011)  loss_rpn_box_reg: 0.0036 (0.0037)  time: 0.9152  data: 0.0180  max mem: 7713\n",
      "Epoch: [6] Total time: 0:00:15 (0.9169 s / it)\n",
      "Epoch: [7]  [ 0/17]  eta: 0:00:19  lr: 0.000100  loss: 0.2405 (0.2405)  loss_classifier: 0.0314 (0.0314)  loss_box_reg: 0.0715 (0.0715)  loss_mask: 0.1322 (0.1322)  loss_objectness: 0.0011 (0.0011)  loss_rpn_box_reg: 0.0043 (0.0043)  time: 1.1229  data: 0.1927  max mem: 7713\n",
      "Epoch: [7]  [16/17]  eta: 0:00:00  lr: 0.000100  loss: 0.2348 (0.2405)  loss_classifier: 0.0296 (0.0303)  loss_box_reg: 0.0615 (0.0667)  loss_mask: 0.1356 (0.1380)  loss_objectness: 0.0016 (0.0017)  loss_rpn_box_reg: 0.0036 (0.0038)  time: 0.9587  data: 0.0185  max mem: 7713\n",
      "Epoch: [7] Total time: 0:00:16 (0.9605 s / it)\n",
      "Epoch: [8]  [ 0/17]  eta: 0:00:17  lr: 0.000100  loss: 0.2375 (0.2375)  loss_classifier: 0.0206 (0.0206)  loss_box_reg: 0.0603 (0.0603)  loss_mask: 0.1530 (0.1530)  loss_objectness: 0.0008 (0.0008)  loss_rpn_box_reg: 0.0027 (0.0027)  time: 1.0573  data: 0.1854  max mem: 7713\n",
      "Epoch: [8]  [16/17]  eta: 0:00:00  lr: 0.000100  loss: 0.2416 (0.2349)  loss_classifier: 0.0278 (0.0301)  loss_box_reg: 0.0631 (0.0655)  loss_mask: 0.1372 (0.1341)  loss_objectness: 0.0014 (0.0017)  loss_rpn_box_reg: 0.0034 (0.0036)  time: 0.9454  data: 0.0178  max mem: 7713\n",
      "Epoch: [8] Total time: 0:00:16 (0.9469 s / it)\n",
      "Epoch: [9]  [ 0/17]  eta: 0:00:16  lr: 0.000010  loss: 0.2258 (0.2258)  loss_classifier: 0.0292 (0.0292)  loss_box_reg: 0.0552 (0.0552)  loss_mask: 0.1388 (0.1388)  loss_objectness: 0.0009 (0.0009)  loss_rpn_box_reg: 0.0017 (0.0017)  time: 0.9505  data: 0.1857  max mem: 7713\n",
      "Epoch: [9]  [16/17]  eta: 0:00:00  lr: 0.000010  loss: 0.2258 (0.2346)  loss_classifier: 0.0293 (0.0305)  loss_box_reg: 0.0597 (0.0647)  loss_mask: 0.1292 (0.1343)  loss_objectness: 0.0010 (0.0014)  loss_rpn_box_reg: 0.0033 (0.0037)  time: 0.9240  data: 0.0179  max mem: 7713\n",
      "Epoch: [9] Total time: 0:00:15 (0.9255 s / it)\n",
      "Epoch: [10]  [ 0/17]  eta: 0:00:16  lr: 0.000010  loss: 0.2294 (0.2294)  loss_classifier: 0.0267 (0.0267)  loss_box_reg: 0.0564 (0.0564)  loss_mask: 0.1434 (0.1434)  loss_objectness: 0.0009 (0.0009)  loss_rpn_box_reg: 0.0020 (0.0020)  time: 0.9830  data: 0.1654  max mem: 7713\n",
      "Epoch: [10]  [16/17]  eta: 0:00:00  lr: 0.000010  loss: 0.2296 (0.2331)  loss_classifier: 0.0289 (0.0301)  loss_box_reg: 0.0588 (0.0645)  loss_mask: 0.1315 (0.1336)  loss_objectness: 0.0011 (0.0012)  loss_rpn_box_reg: 0.0037 (0.0037)  time: 0.9467  data: 0.0171  max mem: 7713\n",
      "Epoch: [10] Total time: 0:00:16 (0.9481 s / it)\n",
      "Epoch: [11]  [ 0/17]  eta: 0:00:17  lr: 0.000010  loss: 0.2398 (0.2398)  loss_classifier: 0.0333 (0.0333)  loss_box_reg: 0.0671 (0.0671)  loss_mask: 0.1363 (0.1363)  loss_objectness: 0.0015 (0.0015)  loss_rpn_box_reg: 0.0017 (0.0017)  time: 1.0263  data: 0.1963  max mem: 7713\n",
      "Epoch: [11]  [16/17]  eta: 0:00:00  lr: 0.000010  loss: 0.2352 (0.2333)  loss_classifier: 0.0268 (0.0297)  loss_box_reg: 0.0630 (0.0652)  loss_mask: 0.1302 (0.1335)  loss_objectness: 0.0014 (0.0015)  loss_rpn_box_reg: 0.0030 (0.0035)  time: 0.9222  data: 0.0185  max mem: 7713\n",
      "Epoch: [11] Total time: 0:00:15 (0.9237 s / it)\n",
      "Epoch: [12]  [ 0/17]  eta: 0:00:24  lr: 0.000001  loss: 0.2582 (0.2582)  loss_classifier: 0.0411 (0.0411)  loss_box_reg: 0.0907 (0.0907)  loss_mask: 0.1219 (0.1219)  loss_objectness: 0.0009 (0.0009)  loss_rpn_box_reg: 0.0036 (0.0036)  time: 1.4203  data: 0.2022  max mem: 7713\n",
      "Epoch: [12]  [16/17]  eta: 0:00:00  lr: 0.000001  loss: 0.2375 (0.2330)  loss_classifier: 0.0247 (0.0297)  loss_box_reg: 0.0651 (0.0656)  loss_mask: 0.1307 (0.1327)  loss_objectness: 0.0010 (0.0012)  loss_rpn_box_reg: 0.0036 (0.0038)  time: 0.9341  data: 0.0191  max mem: 7713\n",
      "Epoch: [12] Total time: 0:00:15 (0.9359 s / it)\n",
      "Epoch: [13]  [ 0/17]  eta: 0:00:19  lr: 0.000001  loss: 0.2547 (0.2547)  loss_classifier: 0.0405 (0.0405)  loss_box_reg: 0.0734 (0.0734)  loss_mask: 0.1338 (0.1338)  loss_objectness: 0.0031 (0.0031)  loss_rpn_box_reg: 0.0039 (0.0039)  time: 1.1397  data: 0.1952  max mem: 7713\n",
      "Epoch: [13]  [16/17]  eta: 0:00:00  lr: 0.000001  loss: 0.2339 (0.2383)  loss_classifier: 0.0294 (0.0299)  loss_box_reg: 0.0681 (0.0663)  loss_mask: 0.1338 (0.1369)  loss_objectness: 0.0012 (0.0015)  loss_rpn_box_reg: 0.0039 (0.0038)  time: 0.9544  data: 0.0188  max mem: 7713\n",
      "Epoch: [13] Total time: 0:00:16 (0.9561 s / it)\n",
      "Epoch: [14]  [ 0/17]  eta: 0:00:19  lr: 0.000001  loss: 0.2392 (0.2392)  loss_classifier: 0.0367 (0.0367)  loss_box_reg: 0.0722 (0.0722)  loss_mask: 0.1241 (0.1241)  loss_objectness: 0.0012 (0.0012)  loss_rpn_box_reg: 0.0050 (0.0050)  time: 1.1681  data: 0.2118  max mem: 7713\n",
      "Epoch: [14]  [16/17]  eta: 0:00:00  lr: 0.000001  loss: 0.2406 (0.2379)  loss_classifier: 0.0320 (0.0312)  loss_box_reg: 0.0655 (0.0654)  loss_mask: 0.1328 (0.1359)  loss_objectness: 0.0012 (0.0018)  loss_rpn_box_reg: 0.0035 (0.0036)  time: 0.8891  data: 0.0190  max mem: 7713\n",
      "Epoch: [14] Total time: 0:00:15 (0.8905 s / it)\n",
      "Epoch: [15]  [ 0/17]  eta: 0:00:15  lr: 0.000000  loss: 0.2759 (0.2759)  loss_classifier: 0.0269 (0.0269)  loss_box_reg: 0.0722 (0.0722)  loss_mask: 0.1708 (0.1708)  loss_objectness: 0.0013 (0.0013)  loss_rpn_box_reg: 0.0047 (0.0047)  time: 0.9373  data: 0.1782  max mem: 7713\n",
      "Epoch: [15]  [16/17]  eta: 0:00:00  lr: 0.000000  loss: 0.2344 (0.2345)  loss_classifier: 0.0298 (0.0293)  loss_box_reg: 0.0701 (0.0650)  loss_mask: 0.1345 (0.1352)  loss_objectness: 0.0013 (0.0014)  loss_rpn_box_reg: 0.0039 (0.0036)  time: 0.9613  data: 0.0175  max mem: 7713\n",
      "Epoch: [15] Total time: 0:00:16 (0.9628 s / it)\n",
      "Epoch: [16]  [ 0/17]  eta: 0:00:18  lr: 0.000000  loss: 0.2128 (0.2128)  loss_classifier: 0.0280 (0.0280)  loss_box_reg: 0.0682 (0.0682)  loss_mask: 0.1072 (0.1072)  loss_objectness: 0.0060 (0.0060)  loss_rpn_box_reg: 0.0034 (0.0034)  time: 1.1098  data: 0.2026  max mem: 7713\n",
      "Epoch: [16]  [16/17]  eta: 0:00:00  lr: 0.000000  loss: 0.2277 (0.2354)  loss_classifier: 0.0303 (0.0292)  loss_box_reg: 0.0611 (0.0641)  loss_mask: 0.1283 (0.1367)  loss_objectness: 0.0017 (0.0018)  loss_rpn_box_reg: 0.0036 (0.0036)  time: 0.9254  data: 0.0188  max mem: 7713\n",
      "Epoch: [16] Total time: 0:00:15 (0.9268 s / it)\n",
      "Epoch: [17]  [ 0/17]  eta: 0:00:15  lr: 0.000000  loss: 0.1960 (0.1960)  loss_classifier: 0.0225 (0.0225)  loss_box_reg: 0.0451 (0.0451)  loss_mask: 0.1249 (0.1249)  loss_objectness: 0.0009 (0.0009)  loss_rpn_box_reg: 0.0026 (0.0026)  time: 0.8916  data: 0.1814  max mem: 7713\n",
      "Epoch: [17]  [16/17]  eta: 0:00:00  lr: 0.000000  loss: 0.2295 (0.2319)  loss_classifier: 0.0302 (0.0300)  loss_box_reg: 0.0654 (0.0650)  loss_mask: 0.1270 (0.1318)  loss_objectness: 0.0014 (0.0014)  loss_rpn_box_reg: 0.0035 (0.0037)  time: 0.9345  data: 0.0183  max mem: 7713\n",
      "Epoch: [17] Total time: 0:00:15 (0.9360 s / it)\n",
      "Epoch: [18]  [ 0/17]  eta: 0:00:19  lr: 0.000000  loss: 0.2081 (0.2081)  loss_classifier: 0.0204 (0.0204)  loss_box_reg: 0.0596 (0.0596)  loss_mask: 0.1251 (0.1251)  loss_objectness: 0.0008 (0.0008)  loss_rpn_box_reg: 0.0021 (0.0021)  time: 1.1687  data: 0.1950  max mem: 7713\n",
      "Epoch: [18]  [16/17]  eta: 0:00:00  lr: 0.000000  loss: 0.2291 (0.2312)  loss_classifier: 0.0280 (0.0290)  loss_box_reg: 0.0687 (0.0652)  loss_mask: 0.1273 (0.1323)  loss_objectness: 0.0009 (0.0011)  loss_rpn_box_reg: 0.0033 (0.0037)  time: 0.9389  data: 0.0187  max mem: 7713\n",
      "Epoch: [18] Total time: 0:00:15 (0.9406 s / it)\n",
      "Epoch: [19]  [ 0/17]  eta: 0:00:17  lr: 0.000000  loss: 0.2424 (0.2424)  loss_classifier: 0.0324 (0.0324)  loss_box_reg: 0.0628 (0.0628)  loss_mask: 0.1432 (0.1432)  loss_objectness: 0.0011 (0.0011)  loss_rpn_box_reg: 0.0029 (0.0029)  time: 1.0412  data: 0.2134  max mem: 7713\n",
      "Epoch: [19]  [16/17]  eta: 0:00:00  lr: 0.000000  loss: 0.2286 (0.2342)  loss_classifier: 0.0274 (0.0297)  loss_box_reg: 0.0552 (0.0644)  loss_mask: 0.1308 (0.1351)  loss_objectness: 0.0011 (0.0014)  loss_rpn_box_reg: 0.0030 (0.0036)  time: 0.9353  data: 0.0200  max mem: 7713\n",
      "Epoch: [19] Total time: 0:00:15 (0.9371 s / it)\n"
     ]
    },
    {
     "data": {
      "image/png": "[encoded data removed]",
      "text/plain": [
       "<Figure size 432x288 with 1 Axes>"
      ]
     },
     "metadata": {
      "needs_background": "light"
     },
     "output_type": "display_data"
    }
   ],
   "source": [
    "# let's train it for 10 epochs\n",
    "from torch.optim.lr_scheduler import StepLR\n",
    "num_epochs = 20\n",
    "LOSSES = []\n",
    "\n",
    "for epoch in range(num_epochs):\n",
    "    # train for one epoch, printing every 10 iterations\n",
    "    _, losses = train_one_epoch(model, optimizer, data_loader, device, epoch, print_freq=17)\n",
    "    # update the learning rate\n",
    "    lr_scheduler.step()\n",
    "    LOSSES.append(losses)\n",
    "    # evaluate on the test dataset\n",
    "    # evaluate(model, data_loader_test, device=device)\n",
    "\n",
    "    \n",
    "\n",
    "LOSSES = chain(*[[k['loss_mask'] for k in ep] for ep in LOSSES])\n",
    "plt.plot([k.to('cpu').detach().numpy().item() for k in LOSSES])\n",
    "plt.grid()\n",
    "plt.show()"
   ]
  },
  {
   "cell_type": "code",
   "execution_count": 5,
   "id": "a2a9cd62-e8ec-4e7a-a1d5-b074ab904070",
   "metadata": {},
   "outputs": [
    {
     "data": {
      "text/plain": [
       "14     0.114286\n",
       "104    0.166667\n",
       "82     0.194432\n",
       "33     0.200000\n",
       "16     0.200000\n",
       "dtype: float64"
      ]
     },
     "execution_count": 5,
     "metadata": {},
     "output_type": "execute_result"
    }
   ],
   "source": [
    "metrics = {}\n",
    "model.eval()\n",
    "\n",
    "for ((image,), (ann,)) in data_loader_test:\n",
    "    imid = ann['image_id'].item()\n",
    "    y_pred = model([image.to('cuda')])[0]\n",
    "    \n",
    "    \n",
    "    yt = ann['masks'].to('cpu').numpy()\n",
    "    yp = y_pred['masks'].to('cpu').detach().numpy()\n",
    "    yp = np.squeeze(yp, axis=1)\n",
    "    metrics[imid] = map_iou(yt.astype(bool), yp > 0.5), yt.astype(bool), yp > 0.5\n",
    "\n",
    "ious = pd.Series({k: v[0] for k, v in metrics.items()})"
   ]
  },
  {
   "cell_type": "code",
   "execution_count": 8,
   "id": "741a2171-e522-4285-924a-2f2b7c5027db",
   "metadata": {},
   "outputs": [
    {
     "data": {
      "text/plain": [
       "<matplotlib.legend.Legend at 0x7fd1f1011a90>"
      ]
     },
     "execution_count": 8,
     "metadata": {},
     "output_type": "execute_result"
    },
    {
     "data": {
      "image/png": "[encoded data removed]",
      "text/plain": [
       "<Figure size 432x288 with 1 Axes>"
      ]
     },
     "metadata": {
      "needs_background": "light"
     },
     "output_type": "display_data"
    }
   ],
   "source": [
    "train_mean = {}\n",
    "test_mean = {}\n",
    "\n",
    "\n",
    "def mean_area(ann):\n",
    "    imid1 = ann['image_id'].item()\n",
    "    mask1 = ann['masks'].numpy()\n",
    "    h1, w1 = mask1.shape[1:]\n",
    "    return {imid1: np.mean(mask1.sum(1).sum(1) / (h1 * w1))}\n",
    "\n",
    "for _, anns in data_loader:\n",
    "    for ann in anns:\n",
    "        train_mean.update(mean_area(ann))\n",
    "\n",
    "for _, (ann,) in data_loader_test:\n",
    "    mask = ann['masks'].numpy()\n",
    "    h, w = mask.shape[1:]\n",
    "    test_mean[ann['image_id'].item()] = np.mean(mask.sum(1).sum(1) / (h * w))\n",
    "\n",
    "\n",
    "    \n",
    "fig, ax = plt.subplots(nrows=1, ncols=2)\n",
    "train_mean, test_mean = map(pd.Series, (train_mean, test_mean))\n",
    "sns.kdeplot(train_mean.values, label='Train', ax=ax[0])\n",
    "sns.kdeplot(test_mean.values, label='Test', ax=ax[0])\n",
    "ax[0].legend()"
   ]
  },
  {
   "cell_type": "code",
   "execution_count": 9,
   "id": "61d2e11e-981f-4492-b89f-1096b911a2a7",
   "metadata": {},
   "outputs": [
    {
     "data": {
      "text/plain": [
       "<matplotlib.legend.Legend at 0x7fd1f24b58d0>"
      ]
     },
     "execution_count": 9,
     "metadata": {},
     "output_type": "execute_result"
    },
    {
     "data": {
      "image/png": "[encoded data removed]",
      "text/plain": [
       "<Figure size 432x288 with 1 Axes>"
      ]
     },
     "metadata": {
      "needs_background": "light"
     },
     "output_type": "display_data"
    }
   ],
   "source": [
    "train_n = {}\n",
    "test_n = {}\n",
    "\n",
    "def n_pedestrians(ann):\n",
    "    return {ann['image_id'].item(): ann['masks'].shape[0]}\n",
    "\n",
    "\n",
    "for _, anns in data_loader:\n",
    "    for ann in anns:\n",
    "        train_n.update(n_pedestrians(ann))\n",
    "\n",
    "for _, (ann,) in data_loader_test:\n",
    "    test_n[ann['image_id'].item()] = ann['masks'].shape[0]\n",
    "    \n",
    "train_n, test_n = map(pd.Series, (train_n, test_n))\n",
    "\n",
    "train_vc = train_n.value_counts(normalize=True).sort_index()\n",
    "test_vc = test_n.value_counts(normalize=True).sort_index()\n",
    "\n",
    "ax[1].plot(train_vc.index, train_vc.values, 'ro-', label='Train')\n",
    "ax[1].plot(test_vc.index, test_vc.values, 'go-', label='Test')\n",
    "ax[1].legend()\n",
    "\n",
    "plt.show()"
   ]
  },
  {
   "cell_type": "code",
   "execution_count": null,
   "id": "18554365-685c-4b8b-98f9-4526977c0f85",
   "metadata": {},
   "outputs": [],
   "source": [
    "print(ious.mean())"
   ]
  }
 ],
 "metadata": {
  "kernelspec": {
   "display_name": "Python 3 (ipykernel)",
   "language": "python",
   "name": "python3"
  },
  "language_info": {
   "codemirror_mode": {
    "name": "ipython",
    "version": 3
   },
   "file_extension": ".py",
   "mimetype": "text/x-python",
   "name": "python",
   "nbconvert_exporter": "python",
   "pygments_lexer": "ipython3",
   "version": "3.7.11"
  }
 },
 "nbformat": 4,
 "nbformat_minor": 5
}
