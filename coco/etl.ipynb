{
 "cells": [
  {
   "cell_type": "code",
   "execution_count": 1,
   "id": "67c8ae01-33f7-424d-b023-40c22633c0bc",
   "metadata": {},
   "outputs": [],
   "source": [
    "import json\n",
    "\n",
    "with open('data/sample.json', 'r') as fin:\n",
    "    sample = json.load(fin)"
   ]
  },
  {
   "cell_type": "code",
   "execution_count": 3,
   "id": "8a73418b-fa84-4127-b7ce-0dda19293aed",
   "metadata": {},
   "outputs": [],
   "source": [
    "with open('data/instances_train2017.json', 'r') as fin:\n",
    "    images = json.load(fin)['images']"
   ]
  },
  {
   "cell_type": "code",
   "execution_count": 5,
   "id": "685c5edd-73df-418e-beff-561e7cb50d25",
   "metadata": {},
   "outputs": [],
   "source": [
    "import pandas as pd\n",
    "df = pd.DataFrame.from_records(images)\n",
    "df.set_index('id', inplace=True, verify_integrity=True)"
   ]
  },
  {
   "cell_type": "code",
   "execution_count": 6,
   "id": "c17a903b-621e-4a0c-856c-ceb40d74b7c5",
   "metadata": {},
   "outputs": [
    {
     "data": {
      "text/html": [
       "<div>\n",
       "<style scoped>\n",
       "    .dataframe tbody tr th:only-of-type {\n",
       "        vertical-align: middle;\n",
       "    }\n",
       "\n",
       "    .dataframe tbody tr th {\n",
       "        vertical-align: top;\n",
       "    }\n",
       "\n",
       "    .dataframe thead th {\n",
       "        text-align: right;\n",
       "    }\n",
       "</style>\n",
       "<table border=\"1\" class=\"dataframe\">\n",
       "  <thead>\n",
       "    <tr style=\"text-align: right;\">\n",
       "      <th></th>\n",
       "      <th>license</th>\n",
       "      <th>file_name</th>\n",
       "      <th>coco_url</th>\n",
       "      <th>height</th>\n",
       "      <th>width</th>\n",
       "      <th>date_captured</th>\n",
       "      <th>flickr_url</th>\n",
       "    </tr>\n",
       "    <tr>\n",
       "      <th>id</th>\n",
       "      <th></th>\n",
       "      <th></th>\n",
       "      <th></th>\n",
       "      <th></th>\n",
       "      <th></th>\n",
       "      <th></th>\n",
       "      <th></th>\n",
       "    </tr>\n",
       "  </thead>\n",
       "  <tbody>\n",
       "    <tr>\n",
       "      <th>391895</th>\n",
       "      <td>3</td>\n",
       "      <td>000000391895.jpg</td>\n",
       "      <td>http://images.cocodataset.org/train2017/000000...</td>\n",
       "      <td>360</td>\n",
       "      <td>640</td>\n",
       "      <td>2013-11-14 11:18:45</td>\n",
       "      <td>http://farm9.staticflickr.com/8186/8119368305_...</td>\n",
       "    </tr>\n",
       "    <tr>\n",
       "      <th>522418</th>\n",
       "      <td>4</td>\n",
       "      <td>000000522418.jpg</td>\n",
       "      <td>http://images.cocodataset.org/train2017/000000...</td>\n",
       "      <td>480</td>\n",
       "      <td>640</td>\n",
       "      <td>2013-11-14 11:38:44</td>\n",
       "      <td>http://farm1.staticflickr.com/1/127244861_ab0c...</td>\n",
       "    </tr>\n",
       "    <tr>\n",
       "      <th>184613</th>\n",
       "      <td>3</td>\n",
       "      <td>000000184613.jpg</td>\n",
       "      <td>http://images.cocodataset.org/train2017/000000...</td>\n",
       "      <td>336</td>\n",
       "      <td>500</td>\n",
       "      <td>2013-11-14 12:36:29</td>\n",
       "      <td>http://farm3.staticflickr.com/2169/2118578392_...</td>\n",
       "    </tr>\n",
       "    <tr>\n",
       "      <th>318219</th>\n",
       "      <td>3</td>\n",
       "      <td>000000318219.jpg</td>\n",
       "      <td>http://images.cocodataset.org/train2017/000000...</td>\n",
       "      <td>640</td>\n",
       "      <td>556</td>\n",
       "      <td>2013-11-14 13:02:53</td>\n",
       "      <td>http://farm5.staticflickr.com/4125/5094763076_...</td>\n",
       "    </tr>\n",
       "    <tr>\n",
       "      <th>554625</th>\n",
       "      <td>3</td>\n",
       "      <td>000000554625.jpg</td>\n",
       "      <td>http://images.cocodataset.org/train2017/000000...</td>\n",
       "      <td>640</td>\n",
       "      <td>426</td>\n",
       "      <td>2013-11-14 16:03:19</td>\n",
       "      <td>http://farm5.staticflickr.com/4086/5094162993_...</td>\n",
       "    </tr>\n",
       "  </tbody>\n",
       "</table>\n",
       "</div>"
      ],
      "text/plain": [
       "        license         file_name  \\\n",
       "id                                  \n",
       "391895        3  000000391895.jpg   \n",
       "522418        4  000000522418.jpg   \n",
       "184613        3  000000184613.jpg   \n",
       "318219        3  000000318219.jpg   \n",
       "554625        3  000000554625.jpg   \n",
       "\n",
       "                                                 coco_url  height  width  \\\n",
       "id                                                                         \n",
       "391895  http://images.cocodataset.org/train2017/000000...     360    640   \n",
       "522418  http://images.cocodataset.org/train2017/000000...     480    640   \n",
       "184613  http://images.cocodataset.org/train2017/000000...     336    500   \n",
       "318219  http://images.cocodataset.org/train2017/000000...     640    556   \n",
       "554625  http://images.cocodataset.org/train2017/000000...     640    426   \n",
       "\n",
       "              date_captured                                         flickr_url  \n",
       "id                                                                              \n",
       "391895  2013-11-14 11:18:45  http://farm9.staticflickr.com/8186/8119368305_...  \n",
       "522418  2013-11-14 11:38:44  http://farm1.staticflickr.com/1/127244861_ab0c...  \n",
       "184613  2013-11-14 12:36:29  http://farm3.staticflickr.com/2169/2118578392_...  \n",
       "318219  2013-11-14 13:02:53  http://farm5.staticflickr.com/4125/5094763076_...  \n",
       "554625  2013-11-14 16:03:19  http://farm5.staticflickr.com/4086/5094162993_...  "
      ]
     },
     "execution_count": 6,
     "metadata": {},
     "output_type": "execute_result"
    }
   ],
   "source": [
    "df.head()"
   ]
  },
  {
   "cell_type": "code",
   "execution_count": 8,
   "id": "01cc1aa9-765f-4466-a6e9-dee63474a098",
   "metadata": {},
   "outputs": [],
   "source": [
    "df = df.loc[sample['image_ids']]"
   ]
  },
  {
   "cell_type": "code",
   "execution_count": 12,
   "id": "51e1bb2a-7802-4f78-b12d-627c75ee382c",
   "metadata": {},
   "outputs": [
    {
     "data": {
      "text/plain": [
       "(772, 7)"
      ]
     },
     "execution_count": 12,
     "metadata": {},
     "output_type": "execute_result"
    }
   ],
   "source": [
    "df.shape"
   ]
  },
  {
   "cell_type": "code",
   "execution_count": 13,
   "id": "0b04c2ad-93ef-4169-8f21-331a757f5aff",
   "metadata": {},
   "outputs": [],
   "source": [
    "df.drop_duplicates(inplace=True)"
   ]
  },
  {
   "cell_type": "code",
   "execution_count": 14,
   "id": "5b9813e4-90cd-43b0-b01c-8b0d1a6396a3",
   "metadata": {},
   "outputs": [
    {
     "data": {
      "text/plain": [
       "(200, 7)"
      ]
     },
     "execution_count": 14,
     "metadata": {},
     "output_type": "execute_result"
    }
   ],
   "source": [
    "df.shape"
   ]
  },
  {
   "cell_type": "code",
   "execution_count": 20,
   "id": "3c66c89a-adf4-4178-a724-63311891bae8",
   "metadata": {},
   "outputs": [
    {
     "name": "stdout",
     "output_type": "stream",
     "text": [
      "000000274262.jpg\n",
      "000000414156.jpg\n",
      "000000264347.jpg\n",
      "000000136780.jpg\n",
      "000000401411.jpg\n",
      "000000091341.jpg\n",
      "000000158333.jpg\n",
      "000000416733.jpg\n",
      "000000411832.jpg\n",
      "000000106909.jpg\n",
      "000000125106.jpg\n",
      "000000444515.jpg\n",
      "000000114504.jpg\n",
      "000000512729.jpg\n",
      "000000280810.jpg\n",
      "000000397773.jpg\n",
      "000000202886.jpg\n",
      "000000495443.jpg\n",
      "000000072020.jpg\n",
      "000000138549.jpg\n",
      "000000386553.jpg\n",
      "000000233830.jpg\n",
      "000000065883.jpg\n",
      "000000077784.jpg\n",
      "000000289469.jpg\n",
      "000000314412.jpg\n",
      "000000016382.jpg\n",
      "000000495107.jpg\n",
      "000000323853.jpg\n",
      "000000223587.jpg\n",
      "000000029308.jpg\n",
      "000000556516.jpg\n",
      "000000413900.jpg\n",
      "000000189136.jpg\n",
      "000000108111.jpg\n",
      "000000122047.jpg\n",
      "000000289392.jpg\n",
      "000000072096.jpg\n",
      "000000359525.jpg\n",
      "000000142177.jpg\n",
      "000000542699.jpg\n",
      "000000476628.jpg\n",
      "000000577160.jpg\n",
      "000000558137.jpg\n",
      "000000572260.jpg\n",
      "000000107167.jpg\n",
      "000000030932.jpg\n",
      "000000530001.jpg\n",
      "000000117784.jpg\n",
      "000000382724.jpg\n",
      "000000369575.jpg\n",
      "000000180606.jpg\n",
      "000000233539.jpg\n",
      "000000035817.jpg\n",
      "000000350421.jpg\n",
      "000000042921.jpg\n",
      "000000469427.jpg\n",
      "000000332124.jpg\n",
      "000000133071.jpg\n",
      "000000472318.jpg\n",
      "000000464537.jpg\n",
      "000000455135.jpg\n",
      "000000521218.jpg\n",
      "000000488373.jpg\n",
      "000000478902.jpg\n",
      "000000091639.jpg\n",
      "000000502581.jpg\n",
      "000000242261.jpg\n",
      "000000249086.jpg\n",
      "000000462054.jpg\n",
      "000000468224.jpg\n",
      "000000267504.jpg\n",
      "000000518954.jpg\n",
      "000000456936.jpg\n",
      "000000392947.jpg\n",
      "000000108034.jpg\n",
      "000000496429.jpg\n",
      "000000461488.jpg\n",
      "000000444036.jpg\n",
      "000000035964.jpg\n",
      "000000370059.jpg\n",
      "000000216715.jpg\n",
      "000000031994.jpg\n",
      "000000144683.jpg\n",
      "000000152556.jpg\n",
      "000000288753.jpg\n",
      "000000099030.jpg\n",
      "000000196899.jpg\n",
      "000000037863.jpg\n",
      "000000293489.jpg\n",
      "000000299765.jpg\n",
      "000000202260.jpg\n",
      "000000115485.jpg\n",
      "000000555613.jpg\n",
      "000000458326.jpg\n",
      "000000561346.jpg\n",
      "000000067462.jpg\n",
      "000000427771.jpg\n",
      "000000308208.jpg\n",
      "000000526735.jpg\n",
      "000000247979.jpg\n",
      "000000108429.jpg\n",
      "000000344805.jpg\n",
      "000000543534.jpg\n",
      "000000176746.jpg\n",
      "000000407963.jpg\n",
      "000000167645.jpg\n",
      "000000212227.jpg\n",
      "000000475425.jpg\n",
      "000000342363.jpg\n",
      "000000382251.jpg\n",
      "000000026260.jpg\n",
      "000000030391.jpg\n",
      "000000537424.jpg\n",
      "000000288948.jpg\n",
      "000000133281.jpg\n",
      "000000328902.jpg\n",
      "000000297876.jpg\n",
      "000000226046.jpg\n",
      "000000161031.jpg\n",
      "000000228329.jpg\n",
      "000000072370.jpg\n",
      "000000363023.jpg\n",
      "000000221245.jpg\n",
      "000000091926.jpg\n",
      "000000184052.jpg\n",
      "000000208646.jpg\n",
      "000000347933.jpg\n",
      "000000270195.jpg\n",
      "000000081177.jpg\n",
      "000000084757.jpg\n",
      "000000572602.jpg\n",
      "000000247065.jpg\n",
      "000000097883.jpg\n",
      "000000436410.jpg\n",
      "000000514725.jpg\n",
      "000000471935.jpg\n",
      "000000218775.jpg\n",
      "000000263450.jpg\n",
      "000000393854.jpg\n",
      "000000417090.jpg\n",
      "000000391747.jpg\n",
      "000000145192.jpg\n",
      "000000142569.jpg\n",
      "000000571514.jpg\n",
      "000000078590.jpg\n",
      "000000191561.jpg\n",
      "000000246382.jpg\n",
      "000000401532.jpg\n",
      "000000236425.jpg\n",
      "000000096554.jpg\n",
      "000000528756.jpg\n",
      "000000130512.jpg\n",
      "000000406263.jpg\n",
      "000000334432.jpg\n",
      "000000036417.jpg\n",
      "000000552755.jpg\n",
      "000000010303.jpg\n",
      "000000141114.jpg\n",
      "000000218334.jpg\n",
      "000000263574.jpg\n",
      "000000044781.jpg\n",
      "000000505553.jpg\n",
      "000000029799.jpg\n",
      "000000344763.jpg\n",
      "000000217378.jpg\n",
      "000000001307.jpg\n",
      "000000249365.jpg\n",
      "000000332333.jpg\n",
      "000000108110.jpg\n",
      "000000577725.jpg\n",
      "000000569442.jpg\n",
      "000000578250.jpg\n",
      "000000518685.jpg\n",
      "000000358730.jpg\n",
      "000000147073.jpg\n",
      "000000045226.jpg\n",
      "000000364722.jpg\n",
      "000000156943.jpg\n",
      "000000001355.jpg\n",
      "000000204467.jpg\n",
      "000000311337.jpg\n",
      "000000337660.jpg\n",
      "000000004579.jpg\n",
      "000000117105.jpg\n",
      "000000281131.jpg\n",
      "000000229975.jpg\n",
      "000000284233.jpg\n",
      "000000576771.jpg\n",
      "000000066088.jpg\n",
      "000000483760.jpg\n",
      "000000281970.jpg\n",
      "000000218715.jpg\n",
      "000000276295.jpg\n",
      "000000246725.jpg\n",
      "000000003579.jpg\n",
      "000000388504.jpg\n",
      "000000358484.jpg\n",
      "000000242116.jpg\n",
      "000000200247.jpg\n"
     ]
    }
   ],
   "source": [
    "print('\\n'.join(df['file_name'].tolist()))"
   ]
  },
  {
   "cell_type": "code",
   "execution_count": 27,
   "id": "e670cb8c-e69d-448c-b818-aae7c562363a",
   "metadata": {},
   "outputs": [],
   "source": [
    "with open('data/instances_train2017.json', 'r') as fin:\n",
    "    ann = json.load(fin)"
   ]
  },
  {
   "cell_type": "code",
   "execution_count": 28,
   "id": "e00cabef-a706-44e2-8514-aef66c59a74d",
   "metadata": {},
   "outputs": [],
   "source": [
    "cats = ann['categories']\n",
    "ann = ann['annotations']"
   ]
  },
  {
   "cell_type": "code",
   "execution_count": 29,
   "id": "8092cf7f-ff60-4c90-8128-01084fde4093",
   "metadata": {},
   "outputs": [],
   "source": [
    "ann = [k for k in ann if k['image_id'] in df.index]"
   ]
  },
  {
   "cell_type": "code",
   "execution_count": 30,
   "id": "2e6eaab2-303a-4b1a-95c5-85d5fe7a2ded",
   "metadata": {},
   "outputs": [
    {
     "data": {
      "text/plain": [
       "2099"
      ]
     },
     "execution_count": 30,
     "metadata": {},
     "output_type": "execute_result"
    }
   ],
   "source": [
    "len(ann)"
   ]
  },
  {
   "cell_type": "code",
   "execution_count": 32,
   "id": "3b4bf666-50cf-47d7-a2d1-f8e37d479758",
   "metadata": {},
   "outputs": [
    {
     "data": {
      "text/plain": [
       "[{'id': 47, 'name': 'cup'},\n",
       " {'id': 49, 'name': 'knife'},\n",
       " {'id': 51, 'name': 'bowl'},\n",
       " {'id': 52, 'name': 'banana'},\n",
       " {'id': 53, 'name': 'apple'},\n",
       " {'id': 56, 'name': 'broccoli'},\n",
       " {'id': 57, 'name': 'carrot'},\n",
       " {'id': 67, 'name': 'dining table'}]"
      ]
     },
     "execution_count": 32,
     "metadata": {},
     "output_type": "execute_result"
    }
   ],
   "source": [
    "labels = [\n",
    "    \"dining table\", \"knife\", \"banana\", \"carrot\", \"cup\", \"apple\", \"bowl\", \"broccoli\"\n",
    "  ]\n",
    "cats = [{'id': k['id'], 'name': k['name']} for k in cats if k['name'] in labels]\n",
    "cats"
   ]
  },
  {
   "cell_type": "code",
   "execution_count": 33,
   "id": "81d06c37-0ad4-413b-8897-3d8776db751d",
   "metadata": {},
   "outputs": [],
   "source": [
    "categories = set([k['id'] for k in cats])\n",
    "\n",
    "ann = [k for k in ann if k['category_id'] in categories]"
   ]
  },
  {
   "cell_type": "code",
   "execution_count": 34,
   "id": "ff6ee5d4-ad6b-481b-9c37-39af503e3208",
   "metadata": {},
   "outputs": [
    {
     "data": {
      "text/plain": [
       "772"
      ]
     },
     "execution_count": 34,
     "metadata": {},
     "output_type": "execute_result"
    }
   ],
   "source": [
    "len(ann)"
   ]
  },
  {
   "cell_type": "code",
   "execution_count": 36,
   "id": "ee190ce4-c1dc-4c53-b93a-8ed07f656fdf",
   "metadata": {},
   "outputs": [],
   "source": [
    "ann = [{'id': k['image_id'], 'bbox': k['bbox'], 'label': k['category_id']} for k in ann]"
   ]
  },
  {
   "cell_type": "code",
   "execution_count": 38,
   "id": "399daa36-a5d4-4695-9d58-1412e82ed810",
   "metadata": {},
   "outputs": [],
   "source": [
    "cats = {k['id']: k['name'] for k in cats}"
   ]
  },
  {
   "cell_type": "code",
   "execution_count": 39,
   "id": "286f5655-1249-4204-8533-bac2736de944",
   "metadata": {},
   "outputs": [],
   "source": [
    "for a in ann:\n",
    "    a['label'] = cats.get(a['label'])"
   ]
  },
  {
   "cell_type": "code",
   "execution_count": 42,
   "id": "ed644ff1-fa85-4327-a1ca-19c6d66e865e",
   "metadata": {},
   "outputs": [],
   "source": [
    "with open('data/annotations.json', 'w') as fin:\n",
    "    json.dump(ann, fin, indent=2)"
   ]
  },
  {
   "cell_type": "code",
   "execution_count": null,
   "id": "6120bb7f-21af-49be-be57-b173f5a14d99",
   "metadata": {},
   "outputs": [],
   "source": []
  }
 ],
 "metadata": {
  "kernelspec": {
   "display_name": "Python 3 (ipykernel)",
   "language": "python",
   "name": "python3"
  },
  "language_info": {
   "codemirror_mode": {
    "name": "ipython",
    "version": 3
   },
   "file_extension": ".py",
   "mimetype": "text/x-python",
   "name": "python",
   "nbconvert_exporter": "python",
   "pygments_lexer": "ipython3",
   "version": "3.9.12"
  }
 },
 "nbformat": 4,
 "nbformat_minor": 5
}
