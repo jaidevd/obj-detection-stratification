{
 "cells": [
  {
   "cell_type": "code",
   "execution_count": 1,
   "id": "62aeefd0-085a-4ed9-843a-7a2114d89f58",
   "metadata": {},
   "outputs": [],
   "source": [
    "from main import COCODataset\n",
    "import pandas as pd\n",
    "from sklearn.feature_extraction.text import CountVectorizer\n",
    "from sklearn.cluster import KMeans"
   ]
  },
  {
   "cell_type": "code",
   "execution_count": 3,
   "id": "ef04b810-346d-4bf8-8925-8de994dc4504",
   "metadata": {},
   "outputs": [
    {
     "data": {
      "text/html": [
       "<div>\n",
       "<style scoped>\n",
       "    .dataframe tbody tr th:only-of-type {\n",
       "        vertical-align: middle;\n",
       "    }\n",
       "\n",
       "    .dataframe tbody tr th {\n",
       "        vertical-align: top;\n",
       "    }\n",
       "\n",
       "    .dataframe thead th {\n",
       "        text-align: right;\n",
       "    }\n",
       "</style>\n",
       "<table border=\"1\" class=\"dataframe\">\n",
       "  <thead>\n",
       "    <tr style=\"text-align: right;\">\n",
       "      <th></th>\n",
       "      <th>id</th>\n",
       "      <th>text</th>\n",
       "    </tr>\n",
       "  </thead>\n",
       "  <tbody>\n",
       "    <tr>\n",
       "      <th>0</th>\n",
       "      <td>1307</td>\n",
       "      <td>carrot carrot carrot</td>\n",
       "    </tr>\n",
       "    <tr>\n",
       "      <th>1</th>\n",
       "      <td>1355</td>\n",
       "      <td>bowl bowl cup bowl</td>\n",
       "    </tr>\n",
       "    <tr>\n",
       "      <th>2</th>\n",
       "      <td>3579</td>\n",
       "      <td>cup cup cup</td>\n",
       "    </tr>\n",
       "    <tr>\n",
       "      <th>3</th>\n",
       "      <td>4579</td>\n",
       "      <td>broccoli broccoli broccoli broccoli broccoli b...</td>\n",
       "    </tr>\n",
       "    <tr>\n",
       "      <th>4</th>\n",
       "      <td>10303</td>\n",
       "      <td>banana banana banana dining_table</td>\n",
       "    </tr>\n",
       "  </tbody>\n",
       "</table>\n",
       "</div>"
      ],
      "text/plain": [
       "      id                                               text\n",
       "0   1307                               carrot carrot carrot\n",
       "1   1355                                 bowl bowl cup bowl\n",
       "2   3579                                        cup cup cup\n",
       "3   4579  broccoli broccoli broccoli broccoli broccoli b...\n",
       "4  10303                  banana banana banana dining_table"
      ]
     },
     "execution_count": 3,
     "metadata": {},
     "output_type": "execute_result"
    }
   ],
   "source": [
    "ds = COCODataset('data/train', 'data/annotations.json')\n",
    "\n",
    "docs = []\n",
    "for _, ann in ds:\n",
    "    labels = ds.lenc.inverse_transform(ann['labels'])\n",
    "    text = ' '.join([k.replace(' ', '_') for k in labels])\n",
    "    docs.append({'id': ann['id'].item(), 'text': text})\n",
    "\n",
    "df = pd.DataFrame.from_records(docs)\n",
    "df.head()"
   ]
  },
  {
   "cell_type": "code",
   "execution_count": 4,
   "id": "119ea475-549a-4252-a7b2-e22b0d5f5eda",
   "metadata": {},
   "outputs": [],
   "source": [
    "vect = CountVectorizer()\n",
    "X = vect.fit_transform(df['text'].tolist())"
   ]
  },
  {
   "cell_type": "code",
   "execution_count": 6,
   "id": "a531a05d-3141-4202-848a-3043db6ffe02",
   "metadata": {},
   "outputs": [],
   "source": [
    "km = KMeans().fit(X)\n",
    "df['label'] = km.labels_"
   ]
  },
  {
   "cell_type": "code",
   "execution_count": 7,
   "id": "6167a043-4922-4d21-befb-033d38ac4cf3",
   "metadata": {},
   "outputs": [
    {
     "data": {
      "text/html": [
       "<div>\n",
       "<style scoped>\n",
       "    .dataframe tbody tr th:only-of-type {\n",
       "        vertical-align: middle;\n",
       "    }\n",
       "\n",
       "    .dataframe tbody tr th {\n",
       "        vertical-align: top;\n",
       "    }\n",
       "\n",
       "    .dataframe thead th {\n",
       "        text-align: right;\n",
       "    }\n",
       "</style>\n",
       "<table border=\"1\" class=\"dataframe\">\n",
       "  <thead>\n",
       "    <tr style=\"text-align: right;\">\n",
       "      <th></th>\n",
       "      <th>id</th>\n",
       "      <th>text</th>\n",
       "      <th>label</th>\n",
       "    </tr>\n",
       "  </thead>\n",
       "  <tbody>\n",
       "    <tr>\n",
       "      <th>0</th>\n",
       "      <td>1307</td>\n",
       "      <td>carrot carrot carrot</td>\n",
       "      <td>2</td>\n",
       "    </tr>\n",
       "    <tr>\n",
       "      <th>1</th>\n",
       "      <td>1355</td>\n",
       "      <td>bowl bowl cup bowl</td>\n",
       "      <td>7</td>\n",
       "    </tr>\n",
       "    <tr>\n",
       "      <th>2</th>\n",
       "      <td>3579</td>\n",
       "      <td>cup cup cup</td>\n",
       "      <td>3</td>\n",
       "    </tr>\n",
       "    <tr>\n",
       "      <th>3</th>\n",
       "      <td>4579</td>\n",
       "      <td>broccoli broccoli broccoli broccoli broccoli b...</td>\n",
       "      <td>4</td>\n",
       "    </tr>\n",
       "    <tr>\n",
       "      <th>4</th>\n",
       "      <td>10303</td>\n",
       "      <td>banana banana banana dining_table</td>\n",
       "      <td>1</td>\n",
       "    </tr>\n",
       "  </tbody>\n",
       "</table>\n",
       "</div>"
      ],
      "text/plain": [
       "      id                                               text  label\n",
       "0   1307                               carrot carrot carrot      2\n",
       "1   1355                                 bowl bowl cup bowl      7\n",
       "2   3579                                        cup cup cup      3\n",
       "3   4579  broccoli broccoli broccoli broccoli broccoli b...      4\n",
       "4  10303                  banana banana banana dining_table      1"
      ]
     },
     "execution_count": 7,
     "metadata": {},
     "output_type": "execute_result"
    }
   ],
   "source": [
    "df.head()"
   ]
  },
  {
   "cell_type": "code",
   "execution_count": 11,
   "id": "c1bdab99-6768-4056-a48b-42a05be24617",
   "metadata": {},
   "outputs": [],
   "source": [
    "df[['id', 'label']].to_csv('data/clusters.csv', index=False)"
   ]
  }
 ],
 "metadata": {
  "kernelspec": {
   "display_name": "Python 3 (ipykernel)",
   "language": "python",
   "name": "python3"
  },
  "language_info": {
   "codemirror_mode": {
    "name": "ipython",
    "version": 3
   },
   "file_extension": ".py",
   "mimetype": "text/x-python",
   "name": "python",
   "nbconvert_exporter": "python",
   "pygments_lexer": "ipython3",
   "version": "3.9.12"
  }
 },
 "nbformat": 4,
 "nbformat_minor": 5
}
